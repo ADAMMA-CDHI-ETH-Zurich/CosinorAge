{
 "cells": [
  {
   "cell_type": "code",
   "execution_count": 1,
   "metadata": {
    "ExecuteTime": {
     "end_time": "2024-11-28T12:55:05.397538Z",
     "start_time": "2024-11-28T12:55:04.429944Z"
    }
   },
   "outputs": [],
   "source": [
    "import matplotlib.pyplot as plt\n",
    "from skdh.sleep.sleep_classification import compute_sleep_predictions\n",
    "from skdh.preprocessing import DETACH, CountWearDetection, CtaWearDetection, AccelThresholdWearDetection, CalibrateAccelerometer\n",
    "import dill as pickle\n",
    "import pandas as pd\n",
    "import numpy as np\n"
   ]
  },
  {
   "cell_type": "code",
   "execution_count": 3,
   "metadata": {
    "ExecuteTime": {
     "end_time": "2024-11-28T12:55:17.374267Z",
     "start_time": "2024-11-28T12:55:17.215143Z"
    }
   },
   "outputs": [
    {
     "data": {
      "text/plain": "Timestamp('2024-10-17 00:00:00')"
     },
     "execution_count": 3,
     "metadata": {},
     "output_type": "execute_result"
    }
   ],
   "source": [
    "with open(\"../examples/pickle/galaxy_loader.pkl\", \"rb\") as f:\n",
    "    ukb_loader = pickle.load(f)\n",
    "\n",
    "ukb_loader.sf_data.index.min()\n",
    "\n"
   ]
  },
  {
   "cell_type": "code",
   "execution_count": 5,
   "metadata": {
    "ExecuteTime": {
     "end_time": "2024-11-28T12:55:25.747489Z",
     "start_time": "2024-11-28T12:55:25.745066Z"
    }
   },
   "outputs": [],
   "source": [
    "# sf=0.005 for ukb\n",
    "predictions = compute_sleep_predictions(ukb_loader.ml_data[\"ENMO\"], sf=0.008)"
   ]
  },
  {
   "cell_type": "code",
   "execution_count": null,
   "metadata": {},
   "outputs": [],
   "source": []
  },
  {
   "cell_type": "code",
   "execution_count": 6,
   "metadata": {
    "ExecuteTime": {
     "end_time": "2024-11-28T12:55:28.449518Z",
     "start_time": "2024-11-28T12:55:28.447476Z"
    }
   },
   "outputs": [
    {
     "ename": "AttributeError",
     "evalue": "'GalaxyDataLoader' object has no attribute 'enmo_df'",
     "output_type": "error",
     "traceback": [
      "\u001B[0;31m---------------------------------------------------------------------------\u001B[0m",
      "\u001B[0;31mAttributeError\u001B[0m                            Traceback (most recent call last)",
      "Cell \u001B[0;32mIn[6], line 1\u001B[0m\n\u001B[0;32m----> 1\u001B[0m data \u001B[38;5;241m=\u001B[39m pd\u001B[38;5;241m.\u001B[39mDataFrame({\u001B[38;5;124m\"\u001B[39m\u001B[38;5;124mTimestamp\u001B[39m\u001B[38;5;124m\"\u001B[39m: \u001B[43mukb_loader\u001B[49m\u001B[38;5;241;43m.\u001B[39;49m\u001B[43menmo_df\u001B[49m\u001B[38;5;241m.\u001B[39mindex, \u001B[38;5;124m\"\u001B[39m\u001B[38;5;124mValue\u001B[39m\u001B[38;5;124m\"\u001B[39m: predictions})\n\u001B[1;32m      3\u001B[0m \u001B[38;5;66;03m# Separate data for plotting\u001B[39;00m\n\u001B[1;32m      4\u001B[0m blue_points \u001B[38;5;241m=\u001B[39m data[data[\u001B[38;5;124m\"\u001B[39m\u001B[38;5;124mValue\u001B[39m\u001B[38;5;124m\"\u001B[39m] \u001B[38;5;241m==\u001B[39m \u001B[38;5;241m1\u001B[39m]\n",
      "\u001B[0;31mAttributeError\u001B[0m: 'GalaxyDataLoader' object has no attribute 'enmo_df'"
     ]
    }
   ],
   "source": [
    "data = pd.DataFrame({\"Timestamp\": ukb_loader.enmo_df.index, \"Value\": predictions})\n",
    "\n",
    "# Separate data for plotting\n",
    "blue_points = data[data[\"Value\"] == 1]\n",
    "green_points = data[data[\"Value\"] == 0]\n",
    "\n",
    "\n",
    "# Plot timeline\n",
    "plt.figure(figsize=(10, 2))\n",
    "plt.scatter(green_points[\"Timestamp\"], [0] * len(green_points), color=\"green\", label=\"0\", marker=\"o\")\n",
    "plt.scatter(blue_points[\"Timestamp\"], [0] * len(blue_points), color=\"blue\", label=\"1\", marker=\"o\")\n",
    "\n",
    "\n",
    "# Add labels and formatting\n",
    "plt.yticks([-0.1, 0.1])\n",
    "plt.xlabel(\"Time\")\n",
    "plt.title(\"Timeline with Markers\")\n",
    "plt.legend(loc=\"upper right\")\n",
    "plt.grid(axis=\"x\", linestyle=\"--\", alpha=0.5)"
   ]
  },
  {
   "cell_type": "code",
   "execution_count": 13,
   "metadata": {
    "ExecuteTime": {
     "end_time": "2024-11-28T12:58:22.083155Z",
     "start_time": "2024-11-28T12:58:21.928443Z"
    }
   },
   "outputs": [
    {
     "name": "stdout",
     "output_type": "stream",
     "text": [
      "(10800000, 3)\n",
      "(10800000,)\n",
      "(10800000,)\n",
      "<class 'numpy.ndarray'>\n",
      "<class 'numpy.ndarray'>\n",
      "<class 'numpy.ndarray'>\n"
     ]
    }
   ],
   "source": [
    "time = np.array(ukb_loader.sf_data.index.astype('int64') // 10**9)\n",
    "acc = np.array(ukb_loader.sf_data[[\"X_raw\", \"Y_raw\", \"Z_raw\"]]).astype(np.float64)/1000\n",
    "temp = np.zeros(len(time))\n",
    "print(acc.shape)\n",
    "print(time.shape)\n",
    "print(temp.shape)\n",
    "print(type(acc))\n",
    "print(type(time))\n",
    "print(type(temp))"
   ]
  },
  {
   "cell_type": "code",
   "execution_count": 16,
   "metadata": {
    "ExecuteTime": {
     "end_time": "2024-11-28T13:08:47.522143Z",
     "start_time": "2024-11-28T13:08:46.435095Z"
    }
   },
   "outputs": [
    {
     "data": {
      "text/plain": "{'wear': array([[       0,  5734500],\n        [ 5940000,  8091000],\n        [ 8257500, 10799999]])}"
     },
     "execution_count": 16,
     "metadata": {},
     "output_type": "execute_result"
    }
   ],
   "source": [
    "wear_predictor = CountWearDetection()\n",
    "wear = wear_predictor.predict(time=time, accel=acc, fs=25)\n",
    "wear\n"
   ]
  },
  {
   "cell_type": "code",
   "execution_count": 17,
   "outputs": [
    {
     "data": {
      "text/plain": "DatetimeIndex([       '2024-10-17 00:00:00', '2024-10-17 00:00:00.040000',\n               '2024-10-17 00:00:00.080000', '2024-10-17 00:00:00.120000',\n               '2024-10-17 00:00:00.160000', '2024-10-17 00:00:00.200000',\n               '2024-10-17 00:00:00.240000', '2024-10-17 00:00:00.280000',\n               '2024-10-17 00:00:00.320000', '2024-10-17 00:00:00.360000',\n               ...\n               '2024-10-21 23:59:59.600000', '2024-10-21 23:59:59.640000',\n               '2024-10-21 23:59:59.680000', '2024-10-21 23:59:59.720000',\n               '2024-10-21 23:59:59.760000', '2024-10-21 23:59:59.800000',\n               '2024-10-21 23:59:59.840000', '2024-10-21 23:59:59.880000',\n               '2024-10-21 23:59:59.920000', '2024-10-21 23:59:59.960000'],\n              dtype='datetime64[ns]', name='TIMESTAMP', length=10800000, freq='40ms')"
     },
     "execution_count": 17,
     "metadata": {},
     "output_type": "execute_result"
    }
   ],
   "source": [
    "index = ukb_loader.sf_data.index\n",
    "index"
   ],
   "metadata": {
    "collapsed": false,
    "ExecuteTime": {
     "end_time": "2024-11-28T13:10:58.848401Z",
     "start_time": "2024-11-28T13:10:58.842714Z"
    }
   }
  },
  {
   "cell_type": "code",
   "execution_count": 18,
   "outputs": [],
   "source": [
    "len = len(index)\n",
    "array = np.zeros(len)\n",
    "for start, end in wear['wear']:\n",
    "    array[start:end+1] = 1"
   ],
   "metadata": {
    "collapsed": false,
    "ExecuteTime": {
     "end_time": "2024-11-28T13:13:49.056411Z",
     "start_time": "2024-11-28T13:13:49.045398Z"
    }
   }
  },
  {
   "cell_type": "code",
   "execution_count": 27,
   "outputs": [
    {
     "data": {
      "text/plain": "                         wear\nTIMESTAMP                    \n2024-10-17 00:00:00.000   1.0\n2024-10-17 00:00:00.040   1.0\n2024-10-17 00:00:00.080   1.0\n2024-10-17 00:00:00.120   1.0\n2024-10-17 00:00:00.160   1.0\n...                       ...\n2024-10-21 23:59:59.800   1.0\n2024-10-21 23:59:59.840   1.0\n2024-10-21 23:59:59.880   1.0\n2024-10-21 23:59:59.920   1.0\n2024-10-21 23:59:59.960   1.0\n\n[10800000 rows x 1 columns]",
      "text/html": "<div>\n<style scoped>\n    .dataframe tbody tr th:only-of-type {\n        vertical-align: middle;\n    }\n\n    .dataframe tbody tr th {\n        vertical-align: top;\n    }\n\n    .dataframe thead th {\n        text-align: right;\n    }\n</style>\n<table border=\"1\" class=\"dataframe\">\n  <thead>\n    <tr style=\"text-align: right;\">\n      <th></th>\n      <th>wear</th>\n    </tr>\n    <tr>\n      <th>TIMESTAMP</th>\n      <th></th>\n    </tr>\n  </thead>\n  <tbody>\n    <tr>\n      <th>2024-10-17 00:00:00.000</th>\n      <td>1.0</td>\n    </tr>\n    <tr>\n      <th>2024-10-17 00:00:00.040</th>\n      <td>1.0</td>\n    </tr>\n    <tr>\n      <th>2024-10-17 00:00:00.080</th>\n      <td>1.0</td>\n    </tr>\n    <tr>\n      <th>2024-10-17 00:00:00.120</th>\n      <td>1.0</td>\n    </tr>\n    <tr>\n      <th>2024-10-17 00:00:00.160</th>\n      <td>1.0</td>\n    </tr>\n    <tr>\n      <th>...</th>\n      <td>...</td>\n    </tr>\n    <tr>\n      <th>2024-10-21 23:59:59.800</th>\n      <td>1.0</td>\n    </tr>\n    <tr>\n      <th>2024-10-21 23:59:59.840</th>\n      <td>1.0</td>\n    </tr>\n    <tr>\n      <th>2024-10-21 23:59:59.880</th>\n      <td>1.0</td>\n    </tr>\n    <tr>\n      <th>2024-10-21 23:59:59.920</th>\n      <td>1.0</td>\n    </tr>\n    <tr>\n      <th>2024-10-21 23:59:59.960</th>\n      <td>1.0</td>\n    </tr>\n  </tbody>\n</table>\n<p>10800000 rows × 1 columns</p>\n</div>"
     },
     "execution_count": 27,
     "metadata": {},
     "output_type": "execute_result"
    }
   ],
   "source": [
    "array = pd.DataFrame(array, columns=['wear']).set_index(index)\n",
    "array"
   ],
   "metadata": {
    "collapsed": false,
    "ExecuteTime": {
     "end_time": "2024-11-28T13:15:54.413997Z",
     "start_time": "2024-11-28T13:15:54.376660Z"
    }
   }
  },
  {
   "cell_type": "code",
   "execution_count": null,
   "outputs": [],
   "source": [],
   "metadata": {
    "collapsed": false
   }
  },
  {
   "cell_type": "code",
   "execution_count": null,
   "outputs": [],
   "source": [],
   "metadata": {
    "collapsed": false
   }
  },
  {
   "cell_type": "code",
   "execution_count": 14,
   "metadata": {
    "ExecuteTime": {
     "end_time": "2024-11-28T12:58:24.626374Z",
     "start_time": "2024-11-28T12:58:24.323513Z"
    }
   },
   "outputs": [
    {
     "name": "stderr",
     "output_type": "stream",
     "text": [
      "/Users/jacobleooskar/Documents/Education/ETHZ/Curriculum/Semester03/03SemProj/CosinorAge/venv/lib/python3.9/site-packages/skdh/preprocessing/calibrate.py:192: UserWarning: Recalibration not done with 108 - 120 hours due to insufficient non-movement data available\n",
      "  warn(\n"
     ]
    },
    {
     "data": {
      "text/plain": "{'accel': array([[-1.919, -2.549, -2.661],\n        [-1.919, -2.549, -2.661],\n        [-1.919, -2.549, -2.661],\n        ...,\n        [ 0.829,  0.104,  4.081],\n        [ 0.829,  0.104,  4.081],\n        [ 0.829,  0.104,  4.081]]),\n 'offset': array([-0.39468431,  0.15851819, -0.03519462]),\n 'scale': array([0.43352811, 0.5125329 , 0.42696396]),\n 'temperature scale': array([[0., 0., 0.]])}"
     },
     "execution_count": 14,
     "metadata": {},
     "output_type": "execute_result"
    }
   ],
   "source": [
    "calibrator = CalibrateAccelerometer(sphere_crit=1, sd_criteria=0.3)\n",
    "calibrated = calibrator.predict(time=time, accel=acc, fs=25)\n",
    "calibrated\n"
   ]
  },
  {
   "cell_type": "markdown",
   "source": [],
   "metadata": {
    "collapsed": false
   }
  },
  {
   "cell_type": "code",
   "execution_count": 15,
   "outputs": [
    {
     "data": {
      "text/plain": "                             X      Y      Z\nTIMESTAMP                                   \n2024-10-17 00:00:00.000 -1.919 -2.549 -2.661\n2024-10-17 00:00:00.040 -1.919 -2.549 -2.661\n2024-10-17 00:00:00.080 -1.919 -2.549 -2.661\n2024-10-17 00:00:00.120 -1.919 -2.549 -2.661\n2024-10-17 00:00:00.160 -1.919 -2.549 -2.661\n...                        ...    ...    ...\n2024-10-21 23:59:59.800  0.829  0.104  4.081\n2024-10-21 23:59:59.840  0.829  0.104  4.081\n2024-10-21 23:59:59.880  0.829  0.104  4.081\n2024-10-21 23:59:59.920  0.829  0.104  4.081\n2024-10-21 23:59:59.960  0.829  0.104  4.081\n\n[10800000 rows x 3 columns]",
      "text/html": "<div>\n<style scoped>\n    .dataframe tbody tr th:only-of-type {\n        vertical-align: middle;\n    }\n\n    .dataframe tbody tr th {\n        vertical-align: top;\n    }\n\n    .dataframe thead th {\n        text-align: right;\n    }\n</style>\n<table border=\"1\" class=\"dataframe\">\n  <thead>\n    <tr style=\"text-align: right;\">\n      <th></th>\n      <th>X</th>\n      <th>Y</th>\n      <th>Z</th>\n    </tr>\n    <tr>\n      <th>TIMESTAMP</th>\n      <th></th>\n      <th></th>\n      <th></th>\n    </tr>\n  </thead>\n  <tbody>\n    <tr>\n      <th>2024-10-17 00:00:00.000</th>\n      <td>-1.919</td>\n      <td>-2.549</td>\n      <td>-2.661</td>\n    </tr>\n    <tr>\n      <th>2024-10-17 00:00:00.040</th>\n      <td>-1.919</td>\n      <td>-2.549</td>\n      <td>-2.661</td>\n    </tr>\n    <tr>\n      <th>2024-10-17 00:00:00.080</th>\n      <td>-1.919</td>\n      <td>-2.549</td>\n      <td>-2.661</td>\n    </tr>\n    <tr>\n      <th>2024-10-17 00:00:00.120</th>\n      <td>-1.919</td>\n      <td>-2.549</td>\n      <td>-2.661</td>\n    </tr>\n    <tr>\n      <th>2024-10-17 00:00:00.160</th>\n      <td>-1.919</td>\n      <td>-2.549</td>\n      <td>-2.661</td>\n    </tr>\n    <tr>\n      <th>...</th>\n      <td>...</td>\n      <td>...</td>\n      <td>...</td>\n    </tr>\n    <tr>\n      <th>2024-10-21 23:59:59.800</th>\n      <td>0.829</td>\n      <td>0.104</td>\n      <td>4.081</td>\n    </tr>\n    <tr>\n      <th>2024-10-21 23:59:59.840</th>\n      <td>0.829</td>\n      <td>0.104</td>\n      <td>4.081</td>\n    </tr>\n    <tr>\n      <th>2024-10-21 23:59:59.880</th>\n      <td>0.829</td>\n      <td>0.104</td>\n      <td>4.081</td>\n    </tr>\n    <tr>\n      <th>2024-10-21 23:59:59.920</th>\n      <td>0.829</td>\n      <td>0.104</td>\n      <td>4.081</td>\n    </tr>\n    <tr>\n      <th>2024-10-21 23:59:59.960</th>\n      <td>0.829</td>\n      <td>0.104</td>\n      <td>4.081</td>\n    </tr>\n  </tbody>\n</table>\n<p>10800000 rows × 3 columns</p>\n</div>"
     },
     "execution_count": 15,
     "metadata": {},
     "output_type": "execute_result"
    }
   ],
   "source": [
    "# convert this nd-array into a pandas dataframe with columns 'X', 'Y', 'Z'\n",
    "\n",
    "calibrated = pd.DataFrame(calibrated['accel'], columns=['X', 'Y', 'Z'])\n",
    "calibrated.set_index(ukb_loader.sf_data.index, inplace=True)\n",
    "calibrated"
   ],
   "metadata": {
    "collapsed": false,
    "ExecuteTime": {
     "end_time": "2024-11-28T12:58:27.770786Z",
     "start_time": "2024-11-28T12:58:27.767844Z"
    }
   }
  },
  {
   "cell_type": "code",
   "execution_count": 8,
   "metadata": {},
   "outputs": [
    {
     "data": {
      "text/plain": [
       "[<matplotlib.lines.Line2D at 0x31f7769d0>]"
      ]
     },
     "execution_count": 8,
     "metadata": {},
     "output_type": "execute_result"
    },
    {
     "data": {
      "image/png": "[encoded data removed]",
      "text/plain": [
       "<Figure size 640x480 with 1 Axes>"
      ]
     },
     "metadata": {},
     "output_type": "display_data"
    }
   ],
   "source": [
    "# calculate enmo\n",
    "x = calibrated['accel'][:, 0]\n",
    "y = calibrated['accel'][:, 1]\n",
    "z = calibrated['accel'][:, 2]\n",
    "enmo = np.sqrt(x**2 + y**2 + z**2)-1\n",
    "# set values below 0 to 0\n",
    "enmo = np.where(enmo < 5, 0, enmo)\n",
    "\n",
    "plt.plot(enmo)\n"
   ]
  },
  {
   "cell_type": "code",
   "execution_count": null,
   "outputs": [],
   "source": [],
   "metadata": {
    "collapsed": false
   }
  },
  {
   "cell_type": "code",
   "execution_count": 9,
   "metadata": {},
   "outputs": [
    {
     "data": {
      "text/plain": [
       "(array([1.0694814e+07, 0.0000000e+00, 0.0000000e+00, 0.0000000e+00,\n",
       "        0.0000000e+00, 0.0000000e+00, 0.0000000e+00, 0.0000000e+00,\n",
       "        0.0000000e+00, 0.0000000e+00, 0.0000000e+00, 2.6965000e+04,\n",
       "        1.7210000e+04, 1.1325000e+04, 8.0490000e+03, 5.2200000e+03,\n",
       "        4.0450000e+03, 3.2310000e+03, 2.9810000e+03, 2.4630000e+03,\n",
       "        2.1070000e+03, 1.9670000e+03, 1.6890000e+03, 1.5870000e+03,\n",
       "        1.4020000e+03, 1.3510000e+03, 1.2990000e+03, 1.1710000e+03,\n",
       "        1.0860000e+03, 1.3680000e+03, 1.2400000e+03, 1.1700000e+03,\n",
       "        8.5200000e+02, 7.2600000e+02, 6.7300000e+02, 6.1800000e+02,\n",
       "        5.7700000e+02, 4.8000000e+02, 3.9600000e+02, 2.9100000e+02,\n",
       "        2.5800000e+02, 2.6900000e+02, 1.9300000e+02, 1.0100000e+02,\n",
       "        1.0300000e+02, 9.8000000e+01, 9.1000000e+01, 8.2000000e+01,\n",
       "        7.3000000e+01, 7.1000000e+01, 5.9000000e+01, 3.8000000e+01,\n",
       "        3.1000000e+01, 3.0000000e+01, 2.5000000e+01, 1.7000000e+01,\n",
       "        1.0000000e+01, 1.0000000e+01, 5.0000000e+00, 7.0000000e+00,\n",
       "        5.0000000e+00, 6.0000000e+00, 5.0000000e+00, 7.0000000e+00,\n",
       "        5.0000000e+00, 6.0000000e+00, 5.0000000e+00, 6.0000000e+00,\n",
       "        7.0000000e+00, 6.0000000e+00, 6.0000000e+00, 2.0000000e+00,\n",
       "        2.0000000e+00, 1.0000000e+00, 3.0000000e+00, 2.0000000e+00,\n",
       "        0.0000000e+00, 0.0000000e+00, 0.0000000e+00, 0.0000000e+00,\n",
       "        0.0000000e+00, 0.0000000e+00, 0.0000000e+00, 0.0000000e+00,\n",
       "        1.0000000e+00, 0.0000000e+00, 0.0000000e+00, 0.0000000e+00,\n",
       "        0.0000000e+00, 0.0000000e+00, 0.0000000e+00, 0.0000000e+00,\n",
       "        0.0000000e+00, 0.0000000e+00, 0.0000000e+00, 0.0000000e+00,\n",
       "        0.0000000e+00, 0.0000000e+00, 0.0000000e+00, 1.0000000e+00]),\n",
       " array([ 0.        ,  0.44998531,  0.89997062,  1.34995593,  1.79994124,\n",
       "         2.24992655,  2.69991186,  3.14989717,  3.59988248,  4.04986779,\n",
       "         4.4998531 ,  4.94983841,  5.39982372,  5.84980903,  6.29979434,\n",
       "         6.74977965,  7.19976496,  7.64975027,  8.09973558,  8.54972089,\n",
       "         8.9997062 ,  9.44969151,  9.89967682, 10.34966213, 10.79964744,\n",
       "        11.24963276, 11.69961807, 12.14960338, 12.59958869, 13.049574  ,\n",
       "        13.49955931, 13.94954462, 14.39952993, 14.84951524, 15.29950055,\n",
       "        15.74948586, 16.19947117, 16.64945648, 17.09944179, 17.5494271 ,\n",
       "        17.99941241, 18.44939772, 18.89938303, 19.34936834, 19.79935365,\n",
       "        20.24933896, 20.69932427, 21.14930958, 21.59929489, 22.0492802 ,\n",
       "        22.49926551, 22.94925082, 23.39923613, 23.84922144, 24.29920675,\n",
       "        24.74919206, 25.19917737, 25.64916268, 26.09914799, 26.5491333 ,\n",
       "        26.99911861, 27.44910392, 27.89908923, 28.34907454, 28.79905985,\n",
       "        29.24904516, 29.69903047, 30.14901578, 30.59900109, 31.0489864 ,\n",
       "        31.49897171, 31.94895702, 32.39894233, 32.84892764, 33.29891295,\n",
       "        33.74889827, 34.19888358, 34.64886889, 35.0988542 , 35.54883951,\n",
       "        35.99882482, 36.44881013, 36.89879544, 37.34878075, 37.79876606,\n",
       "        38.24875137, 38.69873668, 39.14872199, 39.5987073 , 40.04869261,\n",
       "        40.49867792, 40.94866323, 41.39864854, 41.84863385, 42.29861916,\n",
       "        42.74860447, 43.19858978, 43.64857509, 44.0985604 , 44.54854571,\n",
       "        44.99853102]),\n",
       " <BarContainer object of 100 artists>)"
      ]
     },
     "execution_count": 9,
     "metadata": {},
     "output_type": "execute_result"
    },
    {
     "data": {
      "image/png": "[encoded data removed]",
      "text/plain": [
       "<Figure size 640x480 with 1 Axes>"
      ]
     },
     "metadata": {},
     "output_type": "display_data"
    }
   ],
   "source": [
    "plt.hist(enmo, bins=100)"
   ]
  },
  {
   "cell_type": "code",
   "execution_count": null,
   "metadata": {},
   "outputs": [],
   "source": []
  }
 ],
 "metadata": {
  "kernelspec": {
   "display_name": "venv",
   "language": "python",
   "name": "python3"
  },
  "language_info": {
   "codemirror_mode": {
    "name": "ipython",
    "version": 3
   },
   "file_extension": ".py",
   "mimetype": "text/x-python",
   "name": "python",
   "nbconvert_exporter": "python",
   "pygments_lexer": "ipython3",
   "version": "3.9.6"
  }
 },
 "nbformat": 4,
 "nbformat_minor": 2
}
