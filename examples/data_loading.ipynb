{
 "cells": [
  {
   "cell_type": "code",
   "execution_count": 1,
   "id": "initial_id",
   "metadata": {
    "collapsed": true,
    "ExecuteTime": {
     "end_time": "2024-11-07T15:51:16.496765Z",
     "start_time": "2024-11-07T15:51:15.980192Z"
    }
   },
   "outputs": [],
   "source": [
    "import pickle\n",
    "\n",
    "from cosinorage.dataloader import AccelerometerDataLoader, ENMODataLoader, plot_enmo,plot_enmo_difference"
   ]
  },
  {
   "cell_type": "code",
   "execution_count": 2,
   "outputs": [],
   "source": [
    "reload = True"
   ],
   "metadata": {
    "collapsed": false,
    "ExecuteTime": {
     "end_time": "2024-11-07T15:51:16.499447Z",
     "start_time": "2024-11-07T15:51:16.496923Z"
    }
   },
   "id": "961e8f0f50444215"
  },
  {
   "cell_type": "markdown",
   "source": [
    "## Accelerometer Data Loading"
   ],
   "metadata": {
    "collapsed": false
   },
   "id": "26e46063222abf1f"
  },
  {
   "cell_type": "code",
   "execution_count": null,
   "outputs": [
    {
     "name": "stderr",
     "output_type": "stream",
     "text": [
      "Loading CSV files: 100%|██████████| 145/145 [00:13<00:00, 10.99it/s]\n"
     ]
    }
   ],
   "source": [
    "if reload:\n",
    "    acc_loader = AccelerometerDataLoader(input_dir_path='../data/62164/')\n",
    "    acc_loader.load_data()\n",
    "    with open(\"acc_loader.pkl\", \"wb\") as file:\n",
    "        pickle.dump(acc_loader, file)"
   ],
   "metadata": {
    "collapsed": false,
    "is_executing": true,
    "ExecuteTime": {
     "start_time": "2024-11-07T15:51:16.499250Z"
    }
   },
   "id": "6c8536d615056bc5"
  },
  {
   "cell_type": "code",
   "execution_count": null,
   "outputs": [],
   "source": [
    "if not reload:\n",
    "    with open(\"acc_loader.pkl\", \"rb\") as file:\n",
    "        acc_loader = pickle.load(file)"
   ],
   "metadata": {
    "collapsed": false,
    "is_executing": true
   },
   "id": "51298588861b6fb0"
  },
  {
   "cell_type": "code",
   "execution_count": null,
   "outputs": [],
   "source": [
    "plot_enmo(acc_loader)"
   ],
   "metadata": {
    "collapsed": false,
    "is_executing": true
   },
   "id": "406a2319381a934c"
  },
  {
   "cell_type": "markdown",
   "source": [
    "## ENMO Data Loading"
   ],
   "metadata": {
    "collapsed": false
   },
   "id": "c9904764d908595e"
  },
  {
   "cell_type": "code",
   "execution_count": null,
   "outputs": [],
   "source": [
    "if reload:\n",
    "    enmo_loader = ENMODataLoader(input_file_path='../data/62164.csv')\n",
    "    enmo_loader.load_data()\n",
    "    with open(\"enmo_loader.pkl\", \"wb\") as file:\n",
    "        pickle.dump(enmo_loader, file)"
   ],
   "metadata": {
    "collapsed": false,
    "is_executing": true
   },
   "id": "c4aa7fe59243a763"
  },
  {
   "cell_type": "code",
   "execution_count": null,
   "outputs": [],
   "source": [
    "if not reload:\n",
    "    with open(\"enmo_loader.pkl\", \"rb\") as file:\n",
    "        enmo_loader = pickle.load(file)"
   ],
   "metadata": {
    "collapsed": false,
    "is_executing": true
   },
   "id": "fe4165d985b8e81e"
  },
  {
   "cell_type": "code",
   "execution_count": null,
   "outputs": [],
   "source": [
    "plot_enmo(enmo_loader)"
   ],
   "metadata": {
    "collapsed": false,
    "is_executing": true
   },
   "id": "a94e614fc1f17209"
  },
  {
   "cell_type": "markdown",
   "source": [
    "## ENMO Difference between Accelerometer and ENMO DataLoader"
   ],
   "metadata": {
    "collapsed": false
   },
   "id": "9f8017918860dc3e"
  },
  {
   "cell_type": "code",
   "execution_count": null,
   "outputs": [],
   "source": [
    "plot_enmo_difference(acc_loader, enmo_loader)"
   ],
   "metadata": {
    "collapsed": false,
    "is_executing": true
   },
   "id": "24fa2548fad7e56c"
  }
 ],
 "metadata": {
  "kernelspec": {
   "display_name": "Python 3",
   "language": "python",
   "name": "python3"
  },
  "language_info": {
   "codemirror_mode": {
    "name": "ipython",
    "version": 2
   },
   "file_extension": ".py",
   "mimetype": "text/x-python",
   "name": "python",
   "nbconvert_exporter": "python",
   "pygments_lexer": "ipython2",
   "version": "2.7.6"
  }
 },
 "nbformat": 4,
 "nbformat_minor": 5
}
