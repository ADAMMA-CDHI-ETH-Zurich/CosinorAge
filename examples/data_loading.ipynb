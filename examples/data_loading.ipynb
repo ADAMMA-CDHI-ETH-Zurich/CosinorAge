{
 "cells": [
  {
   "cell_type": "code",
   "execution_count": 1,
   "id": "initial_id",
   "metadata": {
    "collapsed": true,
    "ExecuteTime": {
     "end_time": "2024-11-12T22:33:46.317489Z",
     "start_time": "2024-11-12T22:33:45.337229Z"
    }
   },
   "outputs": [],
   "source": [
    "import pickle\n",
    "import matplotlib.pyplot as plt\n",
    "import numpy as np\n",
    "\n",
    "from cosinorage.dataloaders import DataLoader\n",
    "from cosinorage.dataloaders.utils import auto_calibrate"
   ]
  },
  {
   "cell_type": "code",
   "execution_count": 2,
   "outputs": [],
   "source": [
    "reload = True"
   ],
   "metadata": {
    "collapsed": false,
    "ExecuteTime": {
     "end_time": "2024-11-12T22:33:46.809834Z",
     "start_time": "2024-11-12T22:33:46.806827Z"
    }
   },
   "id": "961e8f0f50444215"
  },
  {
   "cell_type": "code",
   "execution_count": 3,
   "outputs": [
    {
     "name": "stderr",
     "output_type": "stream",
     "text": [
      "Loading CSV files: 100%|██████████| 145/145 [00:13<00:00, 11.01it/s]\n",
      "Calibrating: 100%|██████████| 1/1 [00:01<00:00,  1.15s/iter]\n"
     ]
    },
    {
     "name": "stdout",
     "output_type": "stream",
     "text": [
      "3\n"
     ]
    }
   ],
   "source": [
    "if reload:\n",
    "    loader = DataLoader(datasource='smartwatch', input_path='../data/62164/')\n",
    "    loader.load_data()\n",
    "    with open(\"loader.pkl\", \"wb\") as file:\n",
    "        pickle.dump(loader, file)\n",
    "else:\n",
    "    with open(\"loader.pkl\", \"rb\") as file:\n",
    "        loader = pickle.load(file)"
   ],
   "metadata": {
    "collapsed": false,
    "ExecuteTime": {
     "end_time": "2024-11-12T22:34:39.867173Z",
     "start_time": "2024-11-12T22:33:47.162278Z"
    }
   },
   "id": "6c8536d615056bc5"
  },
  {
   "cell_type": "code",
   "execution_count": 4,
   "outputs": [
    {
     "data": {
      "text/plain": "                                   X         Y         Z      ENMO\nTIMESTAMP                                                         \n2000-01-04 00:00:00.000000 -0.726987  0.047668  0.724139  0.027210\n2000-01-04 00:00:00.012500 -0.726987  0.053729  0.724139  0.027509\n2000-01-04 00:00:00.025000 -0.729989  0.047668  0.724139  0.029336\n2000-01-04 00:00:00.037500 -0.729989  0.053729  0.730155  0.033874\n2000-01-04 00:00:00.050000 -0.729989  0.053729  0.733162  0.036001",
      "text/html": "<div>\n<style scoped>\n    .dataframe tbody tr th:only-of-type {\n        vertical-align: middle;\n    }\n\n    .dataframe tbody tr th {\n        vertical-align: top;\n    }\n\n    .dataframe thead th {\n        text-align: right;\n    }\n</style>\n<table border=\"1\" class=\"dataframe\">\n  <thead>\n    <tr style=\"text-align: right;\">\n      <th></th>\n      <th>X</th>\n      <th>Y</th>\n      <th>Z</th>\n      <th>ENMO</th>\n    </tr>\n    <tr>\n      <th>TIMESTAMP</th>\n      <th></th>\n      <th></th>\n      <th></th>\n      <th></th>\n    </tr>\n  </thead>\n  <tbody>\n    <tr>\n      <th>2000-01-04 00:00:00.000000</th>\n      <td>-0.726987</td>\n      <td>0.047668</td>\n      <td>0.724139</td>\n      <td>0.027210</td>\n    </tr>\n    <tr>\n      <th>2000-01-04 00:00:00.012500</th>\n      <td>-0.726987</td>\n      <td>0.053729</td>\n      <td>0.724139</td>\n      <td>0.027509</td>\n    </tr>\n    <tr>\n      <th>2000-01-04 00:00:00.025000</th>\n      <td>-0.729989</td>\n      <td>0.047668</td>\n      <td>0.724139</td>\n      <td>0.029336</td>\n    </tr>\n    <tr>\n      <th>2000-01-04 00:00:00.037500</th>\n      <td>-0.729989</td>\n      <td>0.053729</td>\n      <td>0.730155</td>\n      <td>0.033874</td>\n    </tr>\n    <tr>\n      <th>2000-01-04 00:00:00.050000</th>\n      <td>-0.729989</td>\n      <td>0.053729</td>\n      <td>0.733162</td>\n      <td>0.036001</td>\n    </tr>\n  </tbody>\n</table>\n</div>"
     },
     "execution_count": 4,
     "metadata": {},
     "output_type": "execute_result"
    }
   ],
   "source": [
    "loader.get_acc_data().head()"
   ],
   "metadata": {
    "collapsed": false,
    "ExecuteTime": {
     "end_time": "2024-11-12T22:34:39.884814Z",
     "start_time": "2024-11-12T22:34:39.877935Z"
    }
   },
   "id": "29d4541dda46da58"
  },
  {
   "cell_type": "code",
   "execution_count": 5,
   "outputs": [
    {
     "data": {
      "text/plain": "TIMESTAMP\n2000-01-04 00:00:00    0.031578\n2000-01-04 00:01:00    0.031757\n2000-01-04 00:02:00    0.028299\n2000-01-04 00:03:00    0.021829\n2000-01-04 00:04:00    0.021829\nFreq: min, Name: ENMO, dtype: float64"
     },
     "execution_count": 5,
     "metadata": {},
     "output_type": "execute_result"
    }
   ],
   "source": [
    "loader.get_enmo_data().head()"
   ],
   "metadata": {
    "collapsed": false,
    "ExecuteTime": {
     "end_time": "2024-11-12T22:34:39.887527Z",
     "start_time": "2024-11-12T22:34:39.885235Z"
    }
   },
   "id": "d29eaad325e3a88e"
  },
  {
   "cell_type": "code",
   "execution_count": null,
   "outputs": [],
   "source": [],
   "metadata": {
    "collapsed": false
   },
   "id": "3e9c8d29400eac1"
  },
  {
   "cell_type": "code",
   "execution_count": null,
   "outputs": [],
   "source": [],
   "metadata": {
    "collapsed": false
   },
   "id": "8157ca711dac5c9d"
  },
  {
   "cell_type": "code",
   "execution_count": null,
   "outputs": [],
   "source": [
    "results = auto_calibrate(loader.get_acc_data()[['X', 'Y', 'Z']], 80)"
   ],
   "metadata": {
    "collapsed": false
   },
   "id": "30cf0ee857f0dca9"
  },
  {
   "cell_type": "code",
   "execution_count": null,
   "outputs": [],
   "source": [],
   "metadata": {
    "collapsed": false
   },
   "id": "e24d076267ee360b"
  },
  {
   "cell_type": "code",
   "execution_count": null,
   "outputs": [],
   "source": [
    "# plot in three figures\n",
    "fig, axs = plt.subplots(2, 3, figsize=(30, 10))\n",
    "axs[0,0].plot(results['X'])\n",
    "axs[0,0].set_title('X')\n",
    "axs[0,1].plot(results['Y'])\n",
    "axs[0,1].set_title('Y')\n",
    "axs[0,2].plot(results['Z'])\n",
    "axs[0,2].set_title('Z')\n",
    "axs[1,0].plot(loader.get_acc_data()['X'])\n",
    "axs[1,0].set_title('X')\n",
    "axs[1,1].plot(loader.get_acc_data()['Y'])\n",
    "axs[1,1].set_title('Y')\n",
    "axs[1,2].plot(loader.get_acc_data()['Z'])\n",
    "axs[1,2].set_title('Z')\n",
    "plt.show()"
   ],
   "metadata": {
    "collapsed": false
   },
   "id": "9630fccf0d1283f6"
  },
  {
   "cell_type": "code",
   "execution_count": null,
   "outputs": [],
   "source": [
    "old = np.sqrt(loader.get_acc_data()['X']**2 + loader.get_acc_data()['Y']**2 + loader.get_acc_data()['Z']**2)\n",
    "new = np.sqrt(results['X']**2 + results['Y']**2 + results['Z']**2)"
   ],
   "metadata": {
    "collapsed": false
   },
   "id": "5774bf3cd4546d36"
  },
  {
   "cell_type": "code",
   "execution_count": null,
   "outputs": [],
   "source": [
    "plt.plot(old)\n",
    "plt.show()"
   ],
   "metadata": {
    "collapsed": false
   },
   "id": "728f5dab4b5a81a5"
  },
  {
   "cell_type": "code",
   "execution_count": null,
   "outputs": [],
   "source": [
    "plt.plot(new)\n",
    "plt.show()"
   ],
   "metadata": {
    "collapsed": false
   },
   "id": "ee032634bd2dbd40"
  },
  {
   "cell_type": "code",
   "execution_count": null,
   "outputs": [],
   "source": [],
   "metadata": {
    "collapsed": false
   },
   "id": "bffc7f772d94bb9e"
  }
 ],
 "metadata": {
  "kernelspec": {
   "display_name": "Python 3",
   "language": "python",
   "name": "python3"
  },
  "language_info": {
   "codemirror_mode": {
    "name": "ipython",
    "version": 2
   },
   "file_extension": ".py",
   "mimetype": "text/x-python",
   "name": "python",
   "nbconvert_exporter": "python",
   "pygments_lexer": "ipython2",
   "version": "2.7.6"
  }
 },
 "nbformat": 4,
 "nbformat_minor": 5
}
