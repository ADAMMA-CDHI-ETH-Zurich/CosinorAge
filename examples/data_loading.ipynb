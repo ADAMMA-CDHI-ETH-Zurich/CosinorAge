{
 "cells": [
  {
   "cell_type": "code",
   "execution_count": 1,
   "outputs": [],
   "source": [
    "import pickle\n",
    "import matplotlib.pyplot as plt\n",
    "\n",
    "from cosinorage.dataloaders import DataLoader\n",
    "from cosinorage.dataloaders.utils import auto_calibrate, remove_noise"
   ],
   "metadata": {
    "collapsed": false,
    "ExecuteTime": {
     "end_time": "2024-11-13T21:12:58.840987Z",
     "start_time": "2024-11-13T21:12:57.787876Z"
    }
   },
   "id": "initial_id"
  },
  {
   "cell_type": "code",
   "execution_count": 2,
   "outputs": [],
   "source": [
    "reload = True"
   ],
   "metadata": {
    "collapsed": false,
    "ExecuteTime": {
     "end_time": "2024-11-13T21:12:58.844449Z",
     "start_time": "2024-11-13T21:12:58.841792Z"
    }
   },
   "id": "961e8f0f50444215"
  },
  {
   "cell_type": "code",
   "execution_count": 3,
   "outputs": [
    {
     "name": "stderr",
     "output_type": "stream",
     "text": [
      "Loading CSV files: 100%|██████████| 145/145 [00:13<00:00, 11.10it/s]\n",
      "Calibrating: 100%|██████████| 1/1 [00:01<00:00,  1.16s/iter]\n"
     ]
    },
    {
     "name": "stdout",
     "output_type": "stream",
     "text": [
      "Calibration done\n",
      "Noise removal done\n",
      "Wear detection done\n"
     ]
    }
   ],
   "source": [
    "if reload:\n",
    "    loader = DataLoader(datasource='smartwatch', input_path='../data/62164/')\n",
    "    loader.load_data()\n",
    "    with open(\"loader.pkl\", \"wb\") as file:\n",
    "        pickle.dump(loader, file)\n",
    "else:\n",
    "    with open(\"loader.pkl\", \"rb\") as file:\n",
    "        loader = pickle.load(file)"
   ],
   "metadata": {
    "collapsed": false,
    "ExecuteTime": {
     "end_time": "2024-11-13T21:14:15.135053Z",
     "start_time": "2024-11-13T21:12:58.844752Z"
    }
   },
   "id": "6c8536d615056bc5"
  },
  {
   "cell_type": "code",
   "execution_count": 5,
   "outputs": [],
   "source": [
    "data = loader.get_acc_data()"
   ],
   "metadata": {
    "collapsed": false,
    "ExecuteTime": {
     "end_time": "2024-11-13T21:15:56.308637Z",
     "start_time": "2024-11-13T21:15:56.301628Z"
    }
   },
   "id": "bffc7f772d94bb9e"
  },
  {
   "cell_type": "code",
   "execution_count": null,
   "outputs": [],
   "source": [
    "_data = data.reset_index(inplace=False)\n",
    "# Plotting the ENMO data for the first hour with color bands for wear/non-wear periods\n",
    "plt.figure(figsize=(12, 6))\n",
    "plt.plot(_data['TIMESTAMP'], _data['ENMO'], label='ENMO', color='black')\n",
    "\n",
    "# Add color bands for wear and non-wear periods\n",
    "for i in range(len(_data) - 1):\n",
    "    start_time = _data['TIMESTAMP'].iloc[i]\n",
    "    end_time = _data['TIMESTAMP'].iloc[i + 1]\n",
    "    color = 'green' if _data['wear'].iloc[i] == 1 else 'red'\n",
    "    plt.axvspan(start_time, end_time, color=color, alpha=0.3)\n",
    "\n",
    "plt.show()"
   ],
   "metadata": {
    "collapsed": false,
    "is_executing": true,
    "ExecuteTime": {
     "start_time": "2024-11-13T21:19:30.353124Z"
    }
   },
   "id": "b268e79b3217706f"
  },
  {
   "cell_type": "code",
   "execution_count": null,
   "outputs": [],
   "source": [],
   "metadata": {
    "collapsed": false
   },
   "id": "f7b88258088e3357"
  }
 ],
 "metadata": {
  "kernelspec": {
   "display_name": "Python 3",
   "language": "python",
   "name": "python3"
  },
  "language_info": {
   "codemirror_mode": {
    "name": "ipython",
    "version": 2
   },
   "file_extension": ".py",
   "mimetype": "text/x-python",
   "name": "python",
   "nbconvert_exporter": "python",
   "pygments_lexer": "ipython2",
   "version": "2.7.6"
  }
 },
 "nbformat": 4,
 "nbformat_minor": 5
}
