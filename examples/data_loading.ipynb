{
 "cells": [
  {
   "cell_type": "code",
   "execution_count": 1,
   "id": "initial_id",
   "metadata": {
    "collapsed": true,
    "ExecuteTime": {
     "end_time": "2024-11-12T10:25:25.058704Z",
     "start_time": "2024-11-12T10:25:22.755651Z"
    }
   },
   "outputs": [],
   "source": [
    "import pickle\n",
    "import matplotlib.pyplot as plt\n",
    "import numpy as np\n",
    "\n",
    "from cosinorage.dataloaders import AccelerometerDataLoader, ENMODataLoader, DataLoader\n",
    "from cosinorage.dataloaders.utils import auto_calibrate"
   ]
  },
  {
   "cell_type": "code",
   "execution_count": 2,
   "outputs": [],
   "source": [
    "reload = False"
   ],
   "metadata": {
    "collapsed": false,
    "ExecuteTime": {
     "end_time": "2024-11-12T10:25:25.062832Z",
     "start_time": "2024-11-12T10:25:25.059674Z"
    }
   },
   "id": "961e8f0f50444215"
  },
  {
   "cell_type": "code",
   "execution_count": 3,
   "outputs": [],
   "source": [
    "if reload:\n",
    "    loader = DataLoader(datasource='smartwatch', input_path='../data/62164/')\n",
    "    loader.load_data()\n",
    "    with open(\"loader.pkl\", \"wb\") as file:\n",
    "        pickle.dump(loader, file)\n",
    "else:\n",
    "    with open(\"loader.pkl\", \"rb\") as file:\n",
    "        loader = pickle.load(file)"
   ],
   "metadata": {
    "collapsed": false,
    "ExecuteTime": {
     "end_time": "2024-11-12T10:25:25.274590Z",
     "start_time": "2024-11-12T10:25:25.062570Z"
    }
   },
   "id": "6c8536d615056bc5"
  },
  {
   "cell_type": "code",
   "execution_count": 4,
   "outputs": [
    {
     "name": "stdout",
     "output_type": "stream",
     "text": [
      "(3, 34559201)\n",
      "Improvement: -0.041809554523476615\n",
      "(3, 34559201)\n",
      "Improvement: -0.03630932408102304\n",
      "(3, 34559201)\n",
      "Improvement: -0.043459135824376896\n",
      "(3, 34559201)\n"
     ]
    },
    {
     "ename": "KeyboardInterrupt",
     "evalue": "",
     "output_type": "error",
     "traceback": [
      "\u001B[0;31m---------------------------------------------------------------------------\u001B[0m",
      "\u001B[0;31mKeyboardInterrupt\u001B[0m                         Traceback (most recent call last)",
      "Cell \u001B[0;32mIn[4], line 1\u001B[0m\n\u001B[0;32m----> 1\u001B[0m results \u001B[38;5;241m=\u001B[39m \u001B[43mauto_calibrate\u001B[49m\u001B[43m(\u001B[49m\u001B[43mloader\u001B[49m\u001B[38;5;241;43m.\u001B[39;49m\u001B[43mget_acc_data\u001B[49m\u001B[43m(\u001B[49m\u001B[43m)\u001B[49m\u001B[43m[\u001B[49m\u001B[43m[\u001B[49m\u001B[38;5;124;43m'\u001B[39;49m\u001B[38;5;124;43mX\u001B[39;49m\u001B[38;5;124;43m'\u001B[39;49m\u001B[43m,\u001B[49m\u001B[43m \u001B[49m\u001B[38;5;124;43m'\u001B[39;49m\u001B[38;5;124;43mY\u001B[39;49m\u001B[38;5;124;43m'\u001B[39;49m\u001B[43m,\u001B[49m\u001B[43m \u001B[49m\u001B[38;5;124;43m'\u001B[39;49m\u001B[38;5;124;43mZ\u001B[39;49m\u001B[38;5;124;43m'\u001B[39;49m\u001B[43m]\u001B[49m\u001B[43m]\u001B[49m\u001B[43m,\u001B[49m\u001B[43m \u001B[49m\u001B[38;5;241;43m80\u001B[39;49m\u001B[43m)\u001B[49m\n",
      "File \u001B[0;32m~/Documents/Education/ETHZ/Curriculum/Semester03/03SemProj/CosinorAge/cosinorage/dataloaders/utils/smartwatch.py:47\u001B[0m, in \u001B[0;36mauto_calibrate\u001B[0;34m(df, sf, epoch_size)\u001B[0m\n\u001B[1;32m     45\u001B[0m adjusted \u001B[38;5;241m=\u001B[39m (np\u001B[38;5;241m.\u001B[39marray([mean_gx, mean_gy, mean_gz]) \u001B[38;5;241m-\u001B[39m offset[:, \u001B[38;5;28;01mNone\u001B[39;00m]) \u001B[38;5;241m*\u001B[39m scale[:, \u001B[38;5;28;01mNone\u001B[39;00m]\n\u001B[1;32m     46\u001B[0m \u001B[38;5;28mprint\u001B[39m(adjusted\u001B[38;5;241m.\u001B[39mshape)\n\u001B[0;32m---> 47\u001B[0m calib_error_end \u001B[38;5;241m=\u001B[39m np\u001B[38;5;241m.\u001B[39mmean(\u001B[43mnp\u001B[49m\u001B[38;5;241;43m.\u001B[39;49m\u001B[43mabs\u001B[49m\u001B[43m(\u001B[49m\u001B[43mnp\u001B[49m\u001B[38;5;241;43m.\u001B[39;49m\u001B[43msqrt\u001B[49m\u001B[43m(\u001B[49m\u001B[43madjusted\u001B[49m\u001B[43m[\u001B[49m\u001B[38;5;241;43m0\u001B[39;49m\u001B[43m]\u001B[49m\u001B[43m \u001B[49m\u001B[38;5;241;43m*\u001B[39;49m\u001B[38;5;241;43m*\u001B[39;49m\u001B[43m \u001B[49m\u001B[38;5;241;43m2\u001B[39;49m\u001B[43m \u001B[49m\u001B[38;5;241;43m+\u001B[39;49m\u001B[43m \u001B[49m\u001B[43madjusted\u001B[49m\u001B[43m[\u001B[49m\u001B[38;5;241;43m1\u001B[39;49m\u001B[43m]\u001B[49m\u001B[43m \u001B[49m\u001B[38;5;241;43m*\u001B[39;49m\u001B[38;5;241;43m*\u001B[39;49m\u001B[43m \u001B[49m\u001B[38;5;241;43m2\u001B[39;49m\u001B[43m \u001B[49m\u001B[38;5;241;43m+\u001B[39;49m\u001B[43m \u001B[49m\u001B[43madjusted\u001B[49m\u001B[43m[\u001B[49m\u001B[38;5;241;43m2\u001B[39;49m\u001B[43m]\u001B[49m\u001B[43m \u001B[49m\u001B[38;5;241;43m*\u001B[39;49m\u001B[38;5;241;43m*\u001B[39;49m\u001B[43m \u001B[49m\u001B[38;5;241;43m2\u001B[39;49m\u001B[43m)\u001B[49m\u001B[43m \u001B[49m\u001B[38;5;241;43m-\u001B[39;49m\u001B[43m \u001B[49m\u001B[38;5;241;43m1\u001B[39;49m\u001B[43m)\u001B[49m)\n\u001B[1;32m     49\u001B[0m \u001B[38;5;66;03m# Check for convergence\u001B[39;00m\n\u001B[1;32m     50\u001B[0m \u001B[38;5;28;01mif\u001B[39;00m \u001B[38;5;28mabs\u001B[39m(calib_error_end \u001B[38;5;241m-\u001B[39m calib_error_start) \u001B[38;5;241m<\u001B[39m tol:\n",
      "\u001B[0;31mKeyboardInterrupt\u001B[0m: "
     ]
    }
   ],
   "source": [
    "results = auto_calibrate(loader.get_acc_data()[['X', 'Y', 'Z']], 80)"
   ],
   "metadata": {
    "collapsed": false,
    "ExecuteTime": {
     "end_time": "2024-11-12T10:25:41.523257Z",
     "start_time": "2024-11-12T10:25:25.275433Z"
    }
   },
   "id": "30cf0ee857f0dca9"
  },
  {
   "cell_type": "code",
   "execution_count": null,
   "outputs": [],
   "source": [
    "# plot in three figures\n",
    "fig, axs = plt.subplots(2, 3, figsize=(30, 10))\n",
    "axs[0,0].plot(results['X'])\n",
    "axs[0,0].set_title('X')\n",
    "axs[0,1].plot(results['Y'])\n",
    "axs[0,1].set_title('Y')\n",
    "axs[0,2].plot(results['Z'])\n",
    "axs[0,2].set_title('Z')\n",
    "axs[1,0].plot(loader.get_acc_data()['X'])\n",
    "axs[1,0].set_title('X')\n",
    "axs[1,1].plot(loader.get_acc_data()['Y'])\n",
    "axs[1,1].set_title('Y')\n",
    "axs[1,2].plot(loader.get_acc_data()['Z'])\n",
    "axs[1,2].set_title('Z')\n",
    "plt.show()"
   ],
   "metadata": {
    "collapsed": false,
    "ExecuteTime": {
     "start_time": "2024-11-12T10:25:41.522961Z"
    }
   },
   "id": "9630fccf0d1283f6"
  },
  {
   "cell_type": "code",
   "execution_count": null,
   "outputs": [],
   "source": [
    "old = np.sqrt(loader.get_acc_data()['X']**2 + loader.get_acc_data()['Y']**2 + loader.get_acc_data()['Z']**2)\n",
    "new = np.sqrt(results['X']**2 + results['Y']**2 + results['Z']**2)"
   ],
   "metadata": {
    "collapsed": false,
    "ExecuteTime": {
     "end_time": "2024-11-12T10:25:41.525957Z",
     "start_time": "2024-11-12T10:25:41.524340Z"
    }
   },
   "id": "5774bf3cd4546d36"
  },
  {
   "cell_type": "code",
   "execution_count": null,
   "outputs": [],
   "source": [
    "plt.plot(old)\n",
    "plt.show()"
   ],
   "metadata": {
    "collapsed": false,
    "ExecuteTime": {
     "start_time": "2024-11-12T10:25:41.525105Z"
    }
   },
   "id": "728f5dab4b5a81a5"
  },
  {
   "cell_type": "code",
   "execution_count": null,
   "outputs": [],
   "source": [
    "plt.plot(new)\n",
    "plt.show()"
   ],
   "metadata": {
    "collapsed": false,
    "ExecuteTime": {
     "start_time": "2024-11-12T10:25:41.525925Z"
    }
   },
   "id": "ee032634bd2dbd40"
  },
  {
   "cell_type": "code",
   "execution_count": null,
   "outputs": [],
   "source": [],
   "metadata": {
    "collapsed": false,
    "ExecuteTime": {
     "start_time": "2024-11-12T10:25:41.526561Z"
    }
   },
   "id": "bffc7f772d94bb9e"
  }
 ],
 "metadata": {
  "kernelspec": {
   "display_name": "Python 3",
   "language": "python",
   "name": "python3"
  },
  "language_info": {
   "codemirror_mode": {
    "name": "ipython",
    "version": 2
   },
   "file_extension": ".py",
   "mimetype": "text/x-python",
   "name": "python",
   "nbconvert_exporter": "python",
   "pygments_lexer": "ipython2",
   "version": "2.7.6"
  }
 },
 "nbformat": 4,
 "nbformat_minor": 5
}
