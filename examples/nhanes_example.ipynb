{
 "cells": [
  {
   "cell_type": "code",
   "execution_count": 1,
   "metadata": {},
   "outputs": [],
   "source": [
    "import pandas as pd\n",
    "import numpy as np\n",
    "import pickle\n",
    "from datetime import datetime, timedelta\n",
    "\n",
    "from cosinorage.dataloaders import DataLoader\n",
    "from cosinorage.features import WearableFeatures\n",
    "\n",
    "%load_ext autoreload\n",
    "%autoreload 2"
   ]
  },
  {
   "cell_type": "code",
   "execution_count": 2,
   "metadata": {},
   "outputs": [],
   "source": [
    "reload_nhanes = True"
   ]
  },
  {
   "cell_type": "code",
   "execution_count": 3,
   "metadata": {},
   "outputs": [
    {
     "name": "stdout",
     "output_type": "stream",
     "text": [
      "Found 2 versions of NHANES data\n"
     ]
    },
    {
     "name": "stderr",
     "output_type": "stream",
     "text": [
      "Reading day-level files: 100%|██████████| 2/2 [00:00<00:00, 24.70it/s]\n"
     ]
    },
    {
     "name": "stdout",
     "output_type": "stream",
     "text": [
      "Read 9 day-level records for person 62164\n"
     ]
    },
    {
     "name": "stderr",
     "output_type": "stream",
     "text": [
      "Processing chunks for version H: 883it [01:03, 13.81it/s], ?it/s]\n",
      "Processing chunks for version G: 782it [00:57, 13.58it/s]1:03, 63.92s/it]\n",
      "Reading minute-level files: 100%|██████████| 2/2 [02:01<00:00, 60.76s/it]\n"
     ]
    },
    {
     "name": "stdout",
     "output_type": "stream",
     "text": [
      "Read 11529 minute-level records for person 62164\n"
     ]
    },
    {
     "name": "stderr",
     "output_type": "stream",
     "text": [
      "Reading header files: 100%|██████████| 2/2 [00:00<00:00, 113.03it/s]\n"
     ]
    },
    {
     "name": "stdout",
     "output_type": "stream",
     "text": [
      "Merged day- and minute-level data for person 62164\n",
      "Renamed columns and set timestamp index for person 62164\n",
      "Calculated ENMO for person 62164\n",
      "Loaded 10080 minute-level ENMO records from ../data/\n",
      "Filtered out 0 minute-level ENMO records due to incomplete daily coverage\n",
      "load_data executed in 121.77 seconds\n"
     ]
    }
   ],
   "source": [
    "if reload_nhanes:\n",
    "    nhanes_loader = DataLoader(datasource='nhanes', input_path='../data/', person_id=62164)\n",
    "    nhanes_loader.load_data(verbose=True)\n",
    "    with open(\"nhanes_loader.pkl\", \"wb\") as file:\n",
    "        pickle.dump(nhanes_loader, file)\n",
    "else:\n",
    "    with open(\"nhanes_loader.pkl\", \"rb\") as file:\n",
    "        nhanes_loader = pickle.load(file)"
   ]
  },
  {
   "cell_type": "code",
   "execution_count": 4,
   "metadata": {},
   "outputs": [
    {
     "data": {
      "text/html": [
       "<div>\n",
       "<style scoped>\n",
       "    .dataframe tbody tr th:only-of-type {\n",
       "        vertical-align: middle;\n",
       "    }\n",
       "\n",
       "    .dataframe tbody tr th {\n",
       "        vertical-align: top;\n",
       "    }\n",
       "\n",
       "    .dataframe thead th {\n",
       "        text-align: right;\n",
       "    }\n",
       "</style>\n",
       "<table border=\"1\" class=\"dataframe\">\n",
       "  <thead>\n",
       "    <tr style=\"text-align: right;\">\n",
       "      <th></th>\n",
       "      <th>X</th>\n",
       "      <th>Y</th>\n",
       "      <th>Z</th>\n",
       "      <th>wear</th>\n",
       "      <th>sleep</th>\n",
       "      <th>paxpredm</th>\n",
       "      <th>ENMO</th>\n",
       "    </tr>\n",
       "    <tr>\n",
       "      <th>TIMESTAMP</th>\n",
       "      <th></th>\n",
       "      <th></th>\n",
       "      <th></th>\n",
       "      <th></th>\n",
       "      <th></th>\n",
       "      <th></th>\n",
       "      <th></th>\n",
       "    </tr>\n",
       "  </thead>\n",
       "  <tbody>\n",
       "    <tr>\n",
       "      <th>1900-01-02 00:00:00</th>\n",
       "      <td>5.397605e-79</td>\n",
       "      <td>5.397605e-79</td>\n",
       "      <td>5.397605e-79</td>\n",
       "      <td>1</td>\n",
       "      <td>1</td>\n",
       "      <td>2</td>\n",
       "      <td>0.0</td>\n",
       "    </tr>\n",
       "    <tr>\n",
       "      <th>1900-01-02 00:01:00</th>\n",
       "      <td>5.397605e-79</td>\n",
       "      <td>5.397605e-79</td>\n",
       "      <td>5.397605e-79</td>\n",
       "      <td>1</td>\n",
       "      <td>1</td>\n",
       "      <td>2</td>\n",
       "      <td>0.0</td>\n",
       "    </tr>\n",
       "    <tr>\n",
       "      <th>1900-01-02 00:02:00</th>\n",
       "      <td>5.397605e-79</td>\n",
       "      <td>5.397605e-79</td>\n",
       "      <td>5.397605e-79</td>\n",
       "      <td>1</td>\n",
       "      <td>1</td>\n",
       "      <td>2</td>\n",
       "      <td>0.0</td>\n",
       "    </tr>\n",
       "    <tr>\n",
       "      <th>1900-01-02 00:03:00</th>\n",
       "      <td>5.397605e-79</td>\n",
       "      <td>5.397605e-79</td>\n",
       "      <td>5.397605e-79</td>\n",
       "      <td>1</td>\n",
       "      <td>1</td>\n",
       "      <td>2</td>\n",
       "      <td>0.0</td>\n",
       "    </tr>\n",
       "    <tr>\n",
       "      <th>1900-01-02 00:04:00</th>\n",
       "      <td>5.397605e-79</td>\n",
       "      <td>5.397605e-79</td>\n",
       "      <td>5.397605e-79</td>\n",
       "      <td>1</td>\n",
       "      <td>1</td>\n",
       "      <td>2</td>\n",
       "      <td>0.0</td>\n",
       "    </tr>\n",
       "  </tbody>\n",
       "</table>\n",
       "</div>"
      ],
      "text/plain": [
       "                                X             Y             Z  wear  sleep  \\\n",
       "TIMESTAMP                                                                    \n",
       "1900-01-02 00:00:00  5.397605e-79  5.397605e-79  5.397605e-79     1      1   \n",
       "1900-01-02 00:01:00  5.397605e-79  5.397605e-79  5.397605e-79     1      1   \n",
       "1900-01-02 00:02:00  5.397605e-79  5.397605e-79  5.397605e-79     1      1   \n",
       "1900-01-02 00:03:00  5.397605e-79  5.397605e-79  5.397605e-79     1      1   \n",
       "1900-01-02 00:04:00  5.397605e-79  5.397605e-79  5.397605e-79     1      1   \n",
       "\n",
       "                    paxpredm  ENMO  \n",
       "TIMESTAMP                           \n",
       "1900-01-02 00:00:00        2   0.0  \n",
       "1900-01-02 00:01:00        2   0.0  \n",
       "1900-01-02 00:02:00        2   0.0  \n",
       "1900-01-02 00:03:00        2   0.0  \n",
       "1900-01-02 00:04:00        2   0.0  "
      ]
     },
     "execution_count": 4,
     "metadata": {},
     "output_type": "execute_result"
    }
   ],
   "source": [
    "nhanes_loader.get_enmo_data().head()"
   ]
  },
  {
   "cell_type": "code",
   "execution_count": 5,
   "metadata": {},
   "outputs": [
    {
     "name": "stderr",
     "output_type": "stream",
     "text": [
      "100%|██████████| 10079/10079 [00:00<00:00, 56177.62it/s]\n"
     ]
    },
    {
     "data": {
      "image/png": "[encoded data removed]",
      "text/plain": [
       "<Figure size 1200x600 with 1 Axes>"
      ]
     },
     "metadata": {},
     "output_type": "display_data"
    }
   ],
   "source": [
    "nhanes_loader.plot_enmo()"
   ]
  },
  {
   "cell_type": "code",
   "execution_count": 6,
   "metadata": {},
   "outputs": [
    {
     "data": {
      "text/plain": [
       "paxpredm\n",
       "1    6589\n",
       "2    2980\n",
       "4     511\n",
       "Name: count, dtype: int64"
      ]
     },
     "execution_count": 6,
     "metadata": {},
     "output_type": "execute_result"
    }
   ],
   "source": [
    "nhanes_loader.get_enmo_data()['paxpredm'].value_counts()"
   ]
  },
  {
   "cell_type": "code",
   "execution_count": 7,
   "metadata": {},
   "outputs": [
    {
     "name": "stderr",
     "output_type": "stream",
     "text": [
      "/Users/jacobleooskar/Documents/Education/ETHZ/Curriculum/Semester03/03SemProj/CosinorAge/cosinorage/features/utils/cosinor_analysis.py:60: FutureWarning: The behavior of array concatenation with empty entries is deprecated. In a future version, this will no longer exclude empty items when determining the result dtype. To retain the old behavior, exclude the empty entries before the concat operation.\n",
      "  fitted_vals_df = pd.concat([fitted_vals_df, model.fittedvalues], ignore_index=False)\n"
     ]
    }
   ],
   "source": [
    "nhanes_loader.enmo_df.describe()\n",
    "features = WearableFeatures(nhanes_loader)\n",
    "features.run()\n",
    "df, dict = features.get_all()\n"
   ]
  },
  {
   "cell_type": "code",
   "execution_count": 8,
   "metadata": {},
   "outputs": [
    {
     "data": {
      "text/html": [
       "<div>\n",
       "<style scoped>\n",
       "    .dataframe tbody tr th:only-of-type {\n",
       "        vertical-align: middle;\n",
       "    }\n",
       "\n",
       "    .dataframe tbody tr th {\n",
       "        vertical-align: top;\n",
       "    }\n",
       "\n",
       "    .dataframe thead th {\n",
       "        text-align: right;\n",
       "    }\n",
       "</style>\n",
       "<table border=\"1\" class=\"dataframe\">\n",
       "  <thead>\n",
       "    <tr style=\"text-align: right;\">\n",
       "      <th></th>\n",
       "      <th>MESOR</th>\n",
       "      <th>amplitude</th>\n",
       "      <th>acrophase</th>\n",
       "      <th>acrophase_time</th>\n",
       "      <th>IV</th>\n",
       "      <th>IS</th>\n",
       "      <th>RA</th>\n",
       "      <th>M10</th>\n",
       "      <th>M10_start</th>\n",
       "      <th>L5</th>\n",
       "      <th>L5_start</th>\n",
       "      <th>SB</th>\n",
       "      <th>LIPA</th>\n",
       "      <th>MVPA</th>\n",
       "      <th>TST</th>\n",
       "      <th>WASO</th>\n",
       "      <th>PTA</th>\n",
       "      <th>SRI</th>\n",
       "    </tr>\n",
       "  </thead>\n",
       "  <tbody>\n",
       "    <tr>\n",
       "      <th>1900-01-02</th>\n",
       "      <td>4.194609</td>\n",
       "      <td>4.593569</td>\n",
       "      <td>3.006855</td>\n",
       "      <td>689.120389</td>\n",
       "      <td>0.553234</td>\n",
       "      <td>0.310854</td>\n",
       "      <td>0.955252</td>\n",
       "      <td>8.365472</td>\n",
       "      <td>6</td>\n",
       "      <td>0.191452</td>\n",
       "      <td>0</td>\n",
       "      <td>10.533333</td>\n",
       "      <td>0.000000</td>\n",
       "      <td>13.466667</td>\n",
       "      <td>905</td>\n",
       "      <td>529.0</td>\n",
       "      <td>0.628472</td>\n",
       "      <td>NaN</td>\n",
       "    </tr>\n",
       "    <tr>\n",
       "      <th>1900-01-03</th>\n",
       "      <td>4.803938</td>\n",
       "      <td>4.422045</td>\n",
       "      <td>-2.878984</td>\n",
       "      <td>780.185477</td>\n",
       "      <td>0.519078</td>\n",
       "      <td>0.250183</td>\n",
       "      <td>0.933992</td>\n",
       "      <td>8.939045</td>\n",
       "      <td>17</td>\n",
       "      <td>0.305092</td>\n",
       "      <td>2</td>\n",
       "      <td>9.033333</td>\n",
       "      <td>0.000000</td>\n",
       "      <td>14.966667</td>\n",
       "      <td>974</td>\n",
       "      <td>458.0</td>\n",
       "      <td>0.676389</td>\n",
       "      <td>58.472222</td>\n",
       "    </tr>\n",
       "    <tr>\n",
       "      <th>1900-01-04</th>\n",
       "      <td>5.012393</td>\n",
       "      <td>2.489812</td>\n",
       "      <td>-2.482200</td>\n",
       "      <td>871.121566</td>\n",
       "      <td>0.649806</td>\n",
       "      <td>0.319540</td>\n",
       "      <td>0.924919</td>\n",
       "      <td>8.439007</td>\n",
       "      <td>21</td>\n",
       "      <td>0.329160</td>\n",
       "      <td>5</td>\n",
       "      <td>6.433333</td>\n",
       "      <td>0.016667</td>\n",
       "      <td>17.550000</td>\n",
       "      <td>1182</td>\n",
       "      <td>248.0</td>\n",
       "      <td>0.820833</td>\n",
       "      <td>46.388889</td>\n",
       "    </tr>\n",
       "    <tr>\n",
       "      <th>1900-01-05</th>\n",
       "      <td>5.484251</td>\n",
       "      <td>4.096234</td>\n",
       "      <td>-2.766205</td>\n",
       "      <td>806.032545</td>\n",
       "      <td>0.575909</td>\n",
       "      <td>0.287222</td>\n",
       "      <td>0.971098</td>\n",
       "      <td>8.646607</td>\n",
       "      <td>6</td>\n",
       "      <td>0.126786</td>\n",
       "      <td>22</td>\n",
       "      <td>7.783333</td>\n",
       "      <td>0.016667</td>\n",
       "      <td>16.200000</td>\n",
       "      <td>1010</td>\n",
       "      <td>430.0</td>\n",
       "      <td>0.701389</td>\n",
       "      <td>58.888889</td>\n",
       "    </tr>\n",
       "    <tr>\n",
       "      <th>1900-01-06</th>\n",
       "      <td>6.134147</td>\n",
       "      <td>3.395487</td>\n",
       "      <td>-2.247490</td>\n",
       "      <td>924.913141</td>\n",
       "      <td>0.608270</td>\n",
       "      <td>0.257791</td>\n",
       "      <td>0.930901</td>\n",
       "      <td>10.211573</td>\n",
       "      <td>22</td>\n",
       "      <td>0.365432</td>\n",
       "      <td>2</td>\n",
       "      <td>6.000000</td>\n",
       "      <td>0.016667</td>\n",
       "      <td>17.983333</td>\n",
       "      <td>1235</td>\n",
       "      <td>191.0</td>\n",
       "      <td>0.857639</td>\n",
       "      <td>60.138889</td>\n",
       "    </tr>\n",
       "    <tr>\n",
       "      <th>1900-01-07</th>\n",
       "      <td>3.467894</td>\n",
       "      <td>1.231169</td>\n",
       "      <td>-0.977494</td>\n",
       "      <td>1215.974773</td>\n",
       "      <td>0.472333</td>\n",
       "      <td>0.367982</td>\n",
       "      <td>0.985093</td>\n",
       "      <td>6.656131</td>\n",
       "      <td>15</td>\n",
       "      <td>0.049983</td>\n",
       "      <td>5</td>\n",
       "      <td>11.550000</td>\n",
       "      <td>0.066667</td>\n",
       "      <td>12.383333</td>\n",
       "      <td>827</td>\n",
       "      <td>613.0</td>\n",
       "      <td>0.574306</td>\n",
       "      <td>-8.055556</td>\n",
       "    </tr>\n",
       "    <tr>\n",
       "      <th>1900-01-08</th>\n",
       "      <td>4.382392</td>\n",
       "      <td>3.788104</td>\n",
       "      <td>-2.085018</td>\n",
       "      <td>962.149062</td>\n",
       "      <td>0.429239</td>\n",
       "      <td>0.260761</td>\n",
       "      <td>0.946060</td>\n",
       "      <td>8.343865</td>\n",
       "      <td>11</td>\n",
       "      <td>0.231270</td>\n",
       "      <td>8</td>\n",
       "      <td>9.366667</td>\n",
       "      <td>0.050000</td>\n",
       "      <td>14.583333</td>\n",
       "      <td>967</td>\n",
       "      <td>470.0</td>\n",
       "      <td>0.671528</td>\n",
       "      <td>24.444444</td>\n",
       "    </tr>\n",
       "  </tbody>\n",
       "</table>\n",
       "</div>"
      ],
      "text/plain": [
       "               MESOR  amplitude  acrophase  acrophase_time        IV  \\\n",
       "1900-01-02  4.194609   4.593569   3.006855      689.120389  0.553234   \n",
       "1900-01-03  4.803938   4.422045  -2.878984      780.185477  0.519078   \n",
       "1900-01-04  5.012393   2.489812  -2.482200      871.121566  0.649806   \n",
       "1900-01-05  5.484251   4.096234  -2.766205      806.032545  0.575909   \n",
       "1900-01-06  6.134147   3.395487  -2.247490      924.913141  0.608270   \n",
       "1900-01-07  3.467894   1.231169  -0.977494     1215.974773  0.472333   \n",
       "1900-01-08  4.382392   3.788104  -2.085018      962.149062  0.429239   \n",
       "\n",
       "                  IS        RA        M10  M10_start        L5  L5_start  \\\n",
       "1900-01-02  0.310854  0.955252   8.365472          6  0.191452         0   \n",
       "1900-01-03  0.250183  0.933992   8.939045         17  0.305092         2   \n",
       "1900-01-04  0.319540  0.924919   8.439007         21  0.329160         5   \n",
       "1900-01-05  0.287222  0.971098   8.646607          6  0.126786        22   \n",
       "1900-01-06  0.257791  0.930901  10.211573         22  0.365432         2   \n",
       "1900-01-07  0.367982  0.985093   6.656131         15  0.049983         5   \n",
       "1900-01-08  0.260761  0.946060   8.343865         11  0.231270         8   \n",
       "\n",
       "                   SB      LIPA       MVPA   TST   WASO       PTA        SRI  \n",
       "1900-01-02  10.533333  0.000000  13.466667   905  529.0  0.628472        NaN  \n",
       "1900-01-03   9.033333  0.000000  14.966667   974  458.0  0.676389  58.472222  \n",
       "1900-01-04   6.433333  0.016667  17.550000  1182  248.0  0.820833  46.388889  \n",
       "1900-01-05   7.783333  0.016667  16.200000  1010  430.0  0.701389  58.888889  \n",
       "1900-01-06   6.000000  0.016667  17.983333  1235  191.0  0.857639  60.138889  \n",
       "1900-01-07  11.550000  0.066667  12.383333   827  613.0  0.574306  -8.055556  \n",
       "1900-01-08   9.366667  0.050000  14.583333   967  470.0  0.671528  24.444444  "
      ]
     },
     "execution_count": 8,
     "metadata": {},
     "output_type": "execute_result"
    }
   ],
   "source": [
    "df"
   ]
  },
  {
   "cell_type": "code",
   "execution_count": 9,
   "metadata": {},
   "outputs": [
    {
     "data": {
      "text/plain": [
       "{'MESOR': np.float64(4.782803509320714),\n",
       " 'amplitude': np.float64(2.966677925003311),\n",
       " 'acrophase': np.float64(-2.6101382986735926),\n",
       " 'acrophase_time': np.float64(841.8003661621841)}"
      ]
     },
     "execution_count": 9,
     "metadata": {},
     "output_type": "execute_result"
    }
   ],
   "source": [
    "dict"
   ]
  },
  {
   "cell_type": "code",
   "execution_count": 10,
   "metadata": {},
   "outputs": [
    {
     "data": {
      "image/png": "[encoded data removed]",
      "text/plain": [
       "<Figure size 2000x50 with 1 Axes>"
      ]
     },
     "metadata": {},
     "output_type": "display_data"
    }
   ],
   "source": [
    "features.plot_sleep_predictions()"
   ]
  },
  {
   "cell_type": "code",
   "execution_count": null,
   "metadata": {},
   "outputs": [],
   "source": []
  }
 ],
 "metadata": {
  "kernelspec": {
   "display_name": "venv",
   "language": "python",
   "name": "python3"
  },
  "language_info": {
   "codemirror_mode": {
    "name": "ipython",
    "version": 3
   },
   "file_extension": ".py",
   "mimetype": "text/x-python",
   "name": "python",
   "nbconvert_exporter": "python",
   "pygments_lexer": "ipython3",
   "version": "3.9.6"
  }
 },
 "nbformat": 4,
 "nbformat_minor": 2
}
